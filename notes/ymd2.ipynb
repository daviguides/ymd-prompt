{
 "cells": [
  {
   "cell_type": "code",
   "execution_count": 1,
   "id": "3eca06f6",
   "metadata": {},
   "outputs": [],
   "source": [
    "from ymd import YmdFile\n",
    "from pathlib import Path\n",
    "\n",
    "context = {\n",
    "    \"diff\": \"+++ simulated diff +++\",\n",
    "    \"blue\": \"blue\",\n",
    "    \"yellow\": \"yellow\",\n",
    "    \"green\": \"green\",\n",
    "}\n",
    "root = Path(\"./../prompts/ymd_case/\")"
   ]
  },
  {
   "cell_type": "code",
   "execution_count": 2,
   "id": "ca904fad",
   "metadata": {},
   "outputs": [],
   "source": [
    "ymd_file = YmdFile.from_path(\n",
    "    path=\"gh_pr.ymd\",\n",
    "    context=context,\n",
    "    root=root,\n",
    ")\n",
    "# print(ymd_file.join())"
   ]
  },
  {
   "cell_type": "code",
   "execution_count": 3,
   "id": "a9c234c8",
   "metadata": {},
   "outputs": [
    {
     "data": {
      "text/plain": [
       "'You are a **senior maintainer** writing clear and reviewer-friendly\\n**Pull Request descriptions**.\\n\\nGoals:\\n- Provide a concise summary\\n- List key changes with grouping\\n- Call out breaking changes and risks\\n- Add test notes and screenshots/links if relevant\\n'"
      ]
     },
     "execution_count": 3,
     "metadata": {},
     "output_type": "execute_result"
    }
   ],
   "source": [
    "ymd_file.sections.system"
   ]
  },
  {
   "cell_type": "code",
   "execution_count": 4,
   "id": "ec02d5f4",
   "metadata": {},
   "outputs": [
    {
     "data": {
      "text/plain": [
       "DefaultMeta(id='pr_description_generator', kind='gh_pr', version='0.1.0', title='Generate GitHub Pull Request Description from Diff')"
      ]
     },
     "execution_count": 4,
     "metadata": {},
     "output_type": "execute_result"
    }
   ],
   "source": [
    "ymd_file.meta"
   ]
  },
  {
   "cell_type": "code",
   "execution_count": null,
   "id": "b243009d",
   "metadata": {},
   "outputs": [
    {
     "name": "stdout",
     "output_type": "stream",
     "text": [
      "id='pr_description_generator' kind='gh_pr' version='0.1.0' title='Generate GitHub Pull Request Description from Diff'\n"
     ]
    }
   ],
   "source": [
    "print(ymd_file.raw)"
   ]
  },
  {
   "cell_type": "code",
   "execution_count": 8,
   "id": "424ea0a1",
   "metadata": {},
   "outputs": [
    {
     "name": "stdout",
     "output_type": "stream",
     "text": [
      "You are a **senior maintainer** writing clear and reviewer-friendly\n",
      "**Pull Request descriptions**.\n",
      "\n",
      "Goals:\n",
      "- Provide a concise summary\n",
      "- List key changes with grouping\n",
      "- Call out breaking changes and risks\n",
      "- Add test notes and screenshots/links if relevant\n",
      "\n"
     ]
    }
   ],
   "source": [
    "print(ymd_file.sections.system)"
   ]
  },
  {
   "cell_type": "code",
   "execution_count": 6,
   "id": "4b432ead",
   "metadata": {},
   "outputs": [
    {
     "name": "stdout",
     "output_type": "stream",
     "text": [
      "You are a **senior maintainer** writing clear and reviewer-friendly\n",
      "**Pull Request descriptions**.\n",
      "\n",
      "Goals:\n",
      "- Provide a concise summary\n",
      "- List key changes with grouping\n",
      "- Call out breaking changes and risks\n",
      "- Add test notes and screenshots/links if relevant\n",
      "\n",
      "Produce a PR description using the sections below (Markdown):\n",
      "\n",
      "## Summary\n",
      "- 1–2 sentences. Mention the **why**.\n",
      "\n",
      "## Changes\n",
      "- Use bullet points (`-`) grouped by area.\n",
      "- For multiple related items, create nested bullets.\n",
      "- Use `code` for file paths or identifiers.\n",
      "\n",
      "\n",
      "## Risks & Mitigations (Optional)\n",
      "- Bullet points. If breaking, add **bold** notice and migration notes.\n",
      "\n",
      "\n",
      "## References\n",
      "- Link related issues or tickets (e.g., `Closes #NNN`).\n",
      "- You may include a small **table** to track items:\n",
      "\n",
      "| Area    | Status | Notes            |\n",
      "|---------|--------|------------------|\n",
      "| Backend | Ready  | Covered by tests |\n",
      "| Front   | WIP    | Styling pending  |\n",
      "\n",
      "Context and diff:\n",
      "\n",
      "- Issue: #482\n",
      "- Environment vars: `RATE_LIMIT_RPS=10`, `RATE_LIMIT_BURST=20`\n",
      "\n",
      "```diff\n",
      "+++ simulated diff +++\n",
      "```\n",
      "Please generate the Pull Request description following the instructions and the expected_output style.\n",
      "\n",
      "Example PR description (structure and tone):\n",
      "\n",
      "## Summary\n",
      "Introduce **configurable rate limiting** to protect the public API and\n",
      "reduce abuse during traffic spikes.\n",
      "\n",
      "## Changes\n",
      "- backend\n",
      "  - Add `RateLimiter` with token-bucket strategy\n",
      "  - Wire limiter in `api/router.py` for `/v1/*` endpoints\n",
      "- ops\n",
      "  - Add `RATE_LIMIT_RPS` and `RATE_LIMIT_BURST` env vars\n",
      "- tests\n",
      "  - Add unit tests for refill logic and burst handling\n",
      "\n",
      "## Checklist\n",
      "- [x] Tests added/updated\n",
      "- [x] Docs updated (README)\n",
      "- [ ] No breaking changes\n",
      "\n",
      "\n",
      "## List\n",
      "- Tests added/updated\n",
      "- Docs updated (README, ADR, or in-code)\n",
      "- No breaking changes (or document them below)\n",
      "\n",
      "green\n",
      "yellow\n",
      "## Risks & Mitigations\n",
      "- **Potential 429s** for heavy users → provide override via header for admins\n",
      "- Monitor `429_count` metric and error budget\n",
      "\n",
      "## Test Plan\n",
      "1. `make dev && make test`\n",
      "2. Send 100 req/s to `/v1/ping` and confirm 429 rate ≈ expected\n",
      "3. Toggle `RATE_LIMIT_*` and verify behavior\n",
      "\n",
      "## References\n",
      "- Closes #482\n",
      "- Dashboard: https://example.com/grafana/rate-limit\n",
      "\n",
      "blue\n"
     ]
    }
   ],
   "source": [
    "print(ymd_file.join())"
   ]
  },
  {
   "cell_type": "code",
   "execution_count": 7,
   "id": "b81a73b2",
   "metadata": {},
   "outputs": [
    {
     "name": "stdout",
     "output_type": "stream",
     "text": [
      "dict_keys(['system', 'instructions', 'user', 'expected_output'])\n"
     ]
    }
   ],
   "source": [
    "print(ymd_file.rendered.keys())"
   ]
  }
 ],
 "metadata": {
  "kernelspec": {
   "display_name": "ymd-prompt",
   "language": "python",
   "name": "python3"
  },
  "language_info": {
   "codemirror_mode": {
    "name": "ipython",
    "version": 3
   },
   "file_extension": ".py",
   "mimetype": "text/x-python",
   "name": "python",
   "nbconvert_exporter": "python",
   "pygments_lexer": "ipython3",
   "version": "3.12.10"
  }
 },
 "nbformat": 4,
 "nbformat_minor": 5
}
