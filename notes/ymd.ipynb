{
 "cells": [
  {
   "cell_type": "code",
   "execution_count": 6,
   "id": "3eca06f6",
   "metadata": {},
   "outputs": [],
   "source": [
    "from ymd import load, render\n",
    "\n",
    "prompt = load(\"./../prompts/ymd_case/gh_pr.ymd\")"
   ]
  },
  {
   "cell_type": "code",
   "execution_count": 2,
   "id": "78c45155",
   "metadata": {},
   "outputs": [
    {
     "name": "stdout",
     "output_type": "stream",
     "text": [
      "{'green', 'yellow', 'blue', 'diff'}\n"
     ]
    }
   ],
   "source": [
    "from pathlib import Path\n",
    "from common.utils import collect_placeholders_deep_from_template\n",
    "\n",
    "placeholders = collect_placeholders_deep_from_template(\n",
    "    \"ymd_case/gh_pr.ymd\",\n",
    "    root=Path(\"./../prompts/\"),\n",
    ")\n",
    "print(placeholders)  # -> {'mitigation', 'metric_name', 'test_command', 'endpoint', 'expected_log', ...}"
   ]
  },
  {
   "cell_type": "code",
   "execution_count": null,
   "id": "c513915c",
   "metadata": {},
   "outputs": [
    {
     "name": "stdout",
     "output_type": "stream",
     "text": [
      "{'system': 'You are a **senior maintainer** writing clear and reviewer-friendly\\n**Pull Request descriptions**.\\n\\nGoals:\\n- Provide a concise summary\\n- List key changes with grouping\\n- Call out breaking changes and risks\\n- Add test notes and screenshots/links if relevant\\n', 'instructions': 'Produce a PR description using the sections below (Markdown):\\n\\n## Summary\\n- 1–2 sentences. Mention the **why**.\\n\\n## Changes\\n- Use bullet points (`-`) grouped by area.\\n- For multiple related items, create nested bullets.\\n- Use `code` for file paths or identifiers.\\n\\n\\n## Risks & Mitigations (Optional)\\n- Bullet points. If breaking, add **bold** notice and migration notes.\\n\\n\\n## References\\n- Link related issues or tickets (e.g., `Closes #NNN`).\\n- You may include a small **table** to track items:\\n\\n| Area    | Status | Notes            |\\n|---------|--------|------------------|\\n| Backend | Ready  | Covered by tests |\\n| Front   | WIP    | Styling pending  |\\n', 'expected_output': 'Example PR description (structure and tone):\\n\\n## Summary\\nIntroduce **configurable rate limiting** to protect the public API and\\nreduce abuse during traffic spikes.\\n\\n## Changes\\n- backend\\n  - Add `RateLimiter` with token-bucket strategy\\n  - Wire limiter in `api/router.py` for `/v1/*` endpoints\\n- ops\\n  - Add `RATE_LIMIT_RPS` and `RATE_LIMIT_BURST` env vars\\n- tests\\n  - Add unit tests for refill logic and burst handling\\n\\n## Checklist\\n- [x] Tests added/updated\\n- [x] Docs updated (README)\\n- [ ] No breaking changes\\n\\n\\n## List\\n- Tests added/updated\\n- Docs updated (README, ADR, or in-code)\\n- No breaking changes (or document them below)\\n\\ngreen\\nyellow\\n## Risks & Mitigations\\n- **Potential 429s** for heavy users → provide override via header for admins\\n- Monitor `429_count` metric and error budget\\n\\n## Test Plan\\n1. `make dev && make test`\\n2. Send 100 req/s to `/v1/ping` and confirm 429 rate ≈ expected\\n3. Toggle `RATE_LIMIT_*` and verify behavior\\n\\n## References\\n- Closes #482\\n- Dashboard: https://example.com/grafana/rate-limit\\n\\nblue', 'user': 'Context and diff:\\n\\n- Issue: #482\\n- Environment vars: `RATE_LIMIT_RPS=10`, `RATE_LIMIT_BURST=20`\\n\\n```diff\\n+++ simulated diff +++\\n```\\nPlease generate the Pull Request description following the instructions and the expected_output style.\\n'}\n"
     ]
    }
   ],
   "source": [
    "rendered = render(\n",
    "    prompt=prompt,\n",
    "    context={\n",
    "        \"diff\": \"+++ simulated diff +++\",\n",
    "        \"blue\": \"blue\",\n",
    "        \"yellow\": \"yellow\",\n",
    "        \"green\": \"green\",\n",
    "    },\n",
    ")\n",
    "# print(out[\"user\"])\n",
    "print(rendered)"
   ]
  },
  {
   "cell_type": "code",
   "execution_count": 4,
   "id": "b516e57e",
   "metadata": {},
   "outputs": [],
   "source": [
    "parts = []\n",
    "order = [\"system\", \"instructions\", \"developer\", \"expected_output\", \"user\"]\n",
    "for key in order:\n",
    "    if key in rendered:\n",
    "        text = rendered[key].rstrip()\n",
    "        parts.append(f\"## {key}\\n\\n{text}\\n\")"
   ]
  },
  {
   "cell_type": "code",
   "execution_count": 5,
   "id": "3003259e",
   "metadata": {},
   "outputs": [
    {
     "name": "stdout",
     "output_type": "stream",
     "text": [
      "## system\n",
      "\n",
      "You are a **senior maintainer** writing clear and reviewer-friendly\n",
      "**Pull Request descriptions**.\n",
      "\n",
      "Goals:\n",
      "- Provide a concise summary\n",
      "- List key changes with grouping\n",
      "- Call out breaking changes and risks\n",
      "- Add test notes and screenshots/links if relevant\n",
      "\n",
      "## instructions\n",
      "\n",
      "Produce a PR description using the sections below (Markdown):\n",
      "\n",
      "## Summary\n",
      "- 1–2 sentences. Mention the **why**.\n",
      "\n",
      "## Changes\n",
      "- Use bullet points (`-`) grouped by area.\n",
      "- For multiple related items, create nested bullets.\n",
      "- Use `code` for file paths or identifiers.\n",
      "\n",
      "\n",
      "## Risks & Mitigations (Optional)\n",
      "- Bullet points. If breaking, add **bold** notice and migration notes.\n",
      "\n",
      "\n",
      "## References\n",
      "- Link related issues or tickets (e.g., `Closes #NNN`).\n",
      "- You may include a small **table** to track items:\n",
      "\n",
      "| Area    | Status | Notes            |\n",
      "|---------|--------|------------------|\n",
      "| Backend | Ready  | Covered by tests |\n",
      "| Front   | WIP    | Styling pending  |\n",
      "\n",
      "## expected_output\n",
      "\n",
      "Example PR description (structure and tone):\n",
      "\n",
      "## Summary\n",
      "Introduce **configurable rate limiting** to protect the public API and\n",
      "reduce abuse during traffic spikes.\n",
      "\n",
      "## Changes\n",
      "- backend\n",
      "  - Add `RateLimiter` with token-bucket strategy\n",
      "  - Wire limiter in `api/router.py` for `/v1/*` endpoints\n",
      "- ops\n",
      "  - Add `RATE_LIMIT_RPS` and `RATE_LIMIT_BURST` env vars\n",
      "- tests\n",
      "  - Add unit tests for refill logic and burst handling\n",
      "\n",
      "## Checklist\n",
      "- [x] Tests added/updated\n",
      "- [x] Docs updated (README)\n",
      "- [ ] No breaking changes\n",
      "\n",
      "\n",
      "## List\n",
      "- Tests added/updated\n",
      "- Docs updated (README, ADR, or in-code)\n",
      "- No breaking changes (or document them below)\n",
      "\n",
      "green\n",
      "yellow\n",
      "## Risks & Mitigations\n",
      "- **Potential 429s** for heavy users → provide override via header for admins\n",
      "- Monitor `429_count` metric and error budget\n",
      "\n",
      "## Test Plan\n",
      "1. `make dev && make test`\n",
      "2. Send 100 req/s to `/v1/ping` and confirm 429 rate ≈ expected\n",
      "3. Toggle `RATE_LIMIT_*` and verify behavior\n",
      "\n",
      "## References\n",
      "- Closes #482\n",
      "- Dashboard: https://example.com/grafana/rate-limit\n",
      "\n",
      "blue\n",
      "\n",
      "## user\n",
      "\n",
      "Context and diff:\n",
      "\n",
      "- Issue: #482\n",
      "- Environment vars: `RATE_LIMIT_RPS=10`, `RATE_LIMIT_BURST=20`\n",
      "\n",
      "```diff\n",
      "+++ simulated diff +++\n",
      "```\n",
      "Please generate the Pull Request description following the instructions and the expected_output style.\n"
     ]
    }
   ],
   "source": [
    "print(\"\\n\".join(parts).rstrip())"
   ]
  }
 ],
 "metadata": {
  "kernelspec": {
   "display_name": "ymd-prompt",
   "language": "python",
   "name": "python3"
  },
  "language_info": {
   "codemirror_mode": {
    "name": "ipython",
    "version": 3
   },
   "file_extension": ".py",
   "mimetype": "text/x-python",
   "name": "python",
   "nbconvert_exporter": "python",
   "pygments_lexer": "ipython3",
   "version": "3.12.10"
  }
 },
 "nbformat": 4,
 "nbformat_minor": 5
}
