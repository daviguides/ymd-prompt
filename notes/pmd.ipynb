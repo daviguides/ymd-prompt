{
 "cells": [
  {
   "cell_type": "code",
   "execution_count": 1,
   "id": "45d0c509",
   "metadata": {},
   "outputs": [
    {
     "name": "stdout",
     "output_type": "stream",
     "text": [
      "{'expected_log', 'metric_name', 'endpoint', 'test_command', 'mitigation'}\n"
     ]
    }
   ],
   "source": [
    "from pathlib import Path\n",
    "from common.utils import collect_placeholders_deep_from_template\n",
    "\n",
    "placeholders = collect_placeholders_deep_from_template(\n",
    "    \"pmd_case/pr_description.pmd\",\n",
    "    root=Path(\"./../prompts/\"),\n",
    ")\n",
    "print(placeholders)  # -> {'mitigation', 'metric_name', 'test_command', 'endpoint', 'expected_log', ...}"
   ]
  },
  {
   "cell_type": "markdown",
   "id": "066f2482",
   "metadata": {},
   "source": []
  },
  {
   "cell_type": "code",
   "execution_count": 2,
   "id": "3eca06f6",
   "metadata": {},
   "outputs": [
    {
     "data": {
      "text/plain": [
       "PosixPath('/Users/daviguides/work/sources/my/genai/ymd-prompt/prompts')"
      ]
     },
     "metadata": {},
     "output_type": "display_data"
    },
    {
     "name": "stdout",
     "output_type": "stream",
     "text": [
      "# Pull Request Description\n",
      "\n",
      "You are a senior maintainer preparing a PR description.\n",
      "\n",
      "## Checklist\n",
      "\n",
      "- [ ] Tests added/updated\n",
      "- [ ] Docs updated\n",
      "- [ ] No breaking changes\n",
      "\n",
      "## Test Plan\n",
      "\n",
      "1. Run `make test-auth`\n",
      "2. Verify endpoint `/v1/login`\n",
      "3. Confirm logs contain \"Auth success\"\n",
      "## Risks & Mitigations\n",
      "\n",
      "- **Potential regression** in authentication → Add feature flag to disable new auth\n",
      "- Monitor metrics: `auth_error_rate`\n",
      "\n"
     ]
    }
   ],
   "source": [
    "from pmd import load\n",
    "\n",
    "pmd_file = load(\n",
    "    path=\"pmd_case/pr_description.pmd\",\n",
    "    root=Path(\"./../prompts/\"),\n",
    "    context={\n",
    "        \"mitigation\": \"Add feature flag to disable new auth\",\n",
    "        \"metric_name\": \"auth_error_rate\",\n",
    "        \"test_command\": \"make test-auth\",\n",
    "        \"endpoint\": \"/v1/login\",\n",
    "        \"expected_log\": \"Auth success\",\n",
    "    }\n",
    ")\n",
    "\n",
    "display(pmd_file.root)\n",
    "print(pmd_file.content)"
   ]
  },
  {
   "cell_type": "code",
   "execution_count": 3,
   "id": "39f708c5",
   "metadata": {},
   "outputs": [
    {
     "name": "stdout",
     "output_type": "stream",
     "text": [
      "# Pull Request Description\n",
      "\n",
      "You are a senior maintainer preparing a PR description.\n",
      "\n",
      "## Checklist\n",
      "\n",
      "- [ ] Tests added/updated\n",
      "- [ ] Docs updated\n",
      "- [ ] No breaking changes\n",
      "\n",
      "## Test Plan\n",
      "\n",
      "1. Run `make test-auth`\n",
      "2. Verify endpoint `/v1/login`\n",
      "3. Confirm logs contain \"Auth success\"\n",
      "## Risks & Mitigations\n",
      "\n",
      "- **Potential regression** in authentication → Add feature flag to disable new auth\n",
      "- Monitor metrics: `auth_error_rate`\n",
      "\n"
     ]
    }
   ],
   "source": [
    "print(pmd_file.content)"
   ]
  }
 ],
 "metadata": {
  "kernelspec": {
   "display_name": "ymd-prompt",
   "language": "python",
   "name": "python3"
  },
  "language_info": {
   "codemirror_mode": {
    "name": "ipython",
    "version": 3
   },
   "file_extension": ".py",
   "mimetype": "text/x-python",
   "name": "python",
   "nbconvert_exporter": "python",
   "pygments_lexer": "ipython3",
   "version": "3.12.10"
  }
 },
 "nbformat": 4,
 "nbformat_minor": 5
}
