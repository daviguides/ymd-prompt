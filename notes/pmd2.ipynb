{
 "cells": [
  {
   "cell_type": "code",
   "execution_count": 1,
   "id": "45d0c509",
   "metadata": {},
   "outputs": [],
   "source": [
    "# 2. API orientada a objetos\n",
    "from pmd.load import PmdFile\n",
    "from pathlib import Path\n",
    "\n",
    "context = {\n",
    "    \"mitigation\": \"Add feature flag to disable new auth\",\n",
    "    \"metric_name\": \"auth_error_rate\",\n",
    "    \"test_command\": \"make test-auth\",\n",
    "    \"endpoint\": \"/v1/login\",\n",
    "    \"expected_log\": \"Auth success\",\n",
    "}\n",
    "root = Path(\"./../prompts/pmd_case/\")"
   ]
  },
  {
   "cell_type": "code",
   "execution_count": 2,
   "id": "658eb5fe",
   "metadata": {},
   "outputs": [
    {
     "name": "stdout",
     "output_type": "stream",
     "text": [
      "# Pull Request Description\n",
      "\n",
      "You are a senior maintainer preparing a PR description.\n",
      "\n",
      "## Checklist\n",
      "\n",
      "- [ ] Tests added/updated\n",
      "- [ ] Docs updated\n",
      "- [ ] No breaking changes\n",
      "\n",
      "## Test Plan\n",
      "\n",
      "1. Run `make test-auth`\n",
      "2. Verify endpoint `/v1/login`\n",
      "3. Confirm logs contain \"Auth success\"\n",
      "## Risks & Mitigations\n",
      "\n",
      "- **Potential regression** in authentication → Add feature flag to disable new auth\n",
      "- Monitor metrics: `auth_error_rate`\n",
      "\n"
     ]
    }
   ],
   "source": [
    "prompt = PmdFile.from_path(\n",
    "    path=\"pr_description.pmd\",\n",
    "    context=context,\n",
    "    root=root,\n",
    ")\n",
    "print(prompt.content)"
   ]
  },
  {
   "cell_type": "code",
   "execution_count": 3,
   "id": "0c66786e",
   "metadata": {},
   "outputs": [],
   "source": [
    "raw = \"\"\"\n",
    "# Pull Request Description\n",
    "\n",
    "You are a senior maintainer preparing a PR description.\n",
    "\n",
    "{% include \"sections/checklist.pmd\" %}\n",
    "{% include \"sections/risks.pmd\" %}\n",
    "\"\"\""
   ]
  },
  {
   "cell_type": "code",
   "execution_count": 4,
   "id": "b24352db",
   "metadata": {},
   "outputs": [
    {
     "name": "stdout",
     "output_type": "stream",
     "text": [
      "\n",
      "# Pull Request Description\n",
      "\n",
      "You are a senior maintainer preparing a PR description.\n",
      "\n",
      "## Checklist\n",
      "\n",
      "- [ ] Tests added/updated\n",
      "- [ ] Docs updated\n",
      "- [ ] No breaking changes\n",
      "\n",
      "## Test Plan\n",
      "\n",
      "1. Run `make test-auth`\n",
      "2. Verify endpoint `/v1/login`\n",
      "3. Confirm logs contain \"Auth success\"\n",
      "## Risks & Mitigations\n",
      "\n",
      "- **Potential regression** in authentication → Add feature flag to disable new auth\n",
      "- Monitor metrics: `auth_error_rate`\n",
      "\n"
     ]
    }
   ],
   "source": [
    "prompt = PmdFile.from_raw(\n",
    "    raw,\n",
    "    context=context,\n",
    "    root=root,\n",
    ")\n",
    "print(prompt.content)"
   ]
  }
 ],
 "metadata": {
  "kernelspec": {
   "display_name": "ymd-prompt",
   "language": "python",
   "name": "python3"
  },
  "language_info": {
   "codemirror_mode": {
    "name": "ipython",
    "version": 3
   },
   "file_extension": ".py",
   "mimetype": "text/x-python",
   "name": "python",
   "nbconvert_exporter": "python",
   "pygments_lexer": "ipython3",
   "version": "3.12.10"
  }
 },
 "nbformat": 4,
 "nbformat_minor": 5
}
